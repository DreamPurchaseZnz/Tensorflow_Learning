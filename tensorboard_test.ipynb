{
 "cells": [
  {
   "cell_type": "code",
   "execution_count": 1,
   "metadata": {
    "collapsed": false
   },
   "outputs": [
    {
     "name": "stdout",
     "output_type": "stream",
     "text": [
      "40\n"
     ]
    }
   ],
   "source": [
    "import tensorflow as tf\n",
    "with tf.name_scope('x'):\n",
    "    x = tf.constant(35,name='x')\n",
    "with tf.name_scope('y'):\n",
    "    y = tf.Variable(x+5,name='y')\n",
    "\n",
    "'''\n",
    "when this variable y is computed, \n",
    "take the value of x (as it is then) and add 5 to it\n",
    "'''\n",
    "with tf.Session() as session:\n",
    "    merged =tf.summary.merge_all()\n",
    "    writer =tf.summary.FileWriter('temp',session.graph)\n",
    "    "
   ]
  },
  {
   "cell_type": "code",
   "execution_count": 4,
   "metadata": {
    "collapsed": false
   },
   "outputs": [],
   "source": [
    "import tensorflow as tf\n",
    "from keras.layers import Dense\n",
    "from keras.models import Sequential\n",
    "\n",
    "def generator():\n",
    "    model = Sequential()\n",
    "    \n",
    "    model.add(Dense(6,input_shape=(784,),activation='tanh'))\n",
    "    model.add(Dense(6,activation='tanh'))\n",
    "    model.add(Dense(1))\n",
    "    return model\n",
    "\n",
    "G= generator()\n",
    "\n",
    "with tf.Session() as session:\n",
    "    merged = tf.summary.merge_all()\n",
    "    G_writer = tf.summary.FileWriter('log',session.graph)\n",
    "    "
   ]
  },
  {
   "cell_type": "code",
   "execution_count": null,
   "metadata": {
    "collapsed": true
   },
   "outputs": [],
   "source": []
  }
 ],
 "metadata": {
  "anaconda-cloud": {},
  "kernelspec": {
   "display_name": "Python [conda root]",
   "language": "python",
   "name": "conda-root-py"
  },
  "language_info": {
   "codemirror_mode": {
    "name": "ipython",
    "version": 3
   },
   "file_extension": ".py",
   "mimetype": "text/x-python",
   "name": "python",
   "nbconvert_exporter": "python",
   "pygments_lexer": "ipython3",
   "version": "3.5.2"
  }
 },
 "nbformat": 4,
 "nbformat_minor": 1
}
